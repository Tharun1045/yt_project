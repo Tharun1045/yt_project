{
 "cells": [
  {
   "cell_type": "code",
   "execution_count": 0,
   "metadata": {
    "application/vnd.databricks.v1+cell": {
     "cellMetadata": {
      "byteLimit": 2048000,
      "rowLimit": 10000
     },
     "inputWidgets": {},
     "nuid": "f4b84d07-9949-41d5-b18a-aea19cd13c10",
     "showTitle": false,
     "title": ""
    }
   },
   "outputs": [
    {
     "output_type": "execute_result",
     "data": {
      "text/plain": [
       "[FileInfo(path='dbfs:/mnt/silver/hfpms/card_details/', name='card_details/', size=0, modificationTime=1713076239000),\n",
       " FileInfo(path='dbfs:/mnt/silver/hfpms/claimed_insurances/', name='claimed_insurances/', size=0, modificationTime=1713076255000),\n",
       " FileInfo(path='dbfs:/mnt/silver/hfpms/inventory_orders/', name='inventory_orders/', size=0, modificationTime=1713076265000),\n",
       " FileInfo(path='dbfs:/mnt/silver/hfpms/medicines/', name='medicines/', size=0, modificationTime=1713076276000),\n",
       " FileInfo(path='dbfs:/mnt/silver/hfpms/order_details/', name='order_details/', size=0, modificationTime=1713076287000),\n",
       " FileInfo(path='dbfs:/mnt/silver/hfpms/order_payments/', name='order_payments/', size=0, modificationTime=1713076297000),\n",
       " FileInfo(path='dbfs:/mnt/silver/hfpms/orders/', name='orders/', size=0, modificationTime=1713076307000),\n",
       " FileInfo(path='dbfs:/mnt/silver/hfpms/prescriptions/', name='prescriptions/', size=0, modificationTime=1713076317000),\n",
       " FileInfo(path='dbfs:/mnt/silver/hfpms/user_activities/', name='user_activities/', size=0, modificationTime=1713076327000),\n",
       " FileInfo(path='dbfs:/mnt/silver/hfpms/users/', name='users/', size=0, modificationTime=1713076338000)]"
      ]
     },
     "execution_count": 11,
     "metadata": {},
     "output_type": "execute_result"
    }
   ],
   "source": [
    "dbutils.fs.ls(\"/mnt/silver/hfpms\")"
   ]
  },
  {
   "cell_type": "code",
   "execution_count": 0,
   "metadata": {
    "application/vnd.databricks.v1+cell": {
     "cellMetadata": {
      "byteLimit": 2048000,
      "rowLimit": 10000
     },
     "inputWidgets": {},
     "nuid": "fde49651-801b-48aa-8e09-849f84dde58a",
     "showTitle": false,
     "title": ""
    }
   },
   "outputs": [
    {
     "output_type": "execute_result",
     "data": {
      "text/plain": [
       "[]"
      ]
     },
     "execution_count": 12,
     "metadata": {},
     "output_type": "execute_result"
    }
   ],
   "source": [
    "dbutils.fs.ls(\"/mnt/gold/\")"
   ]
  },
  {
   "cell_type": "code",
   "execution_count": 0,
   "metadata": {
    "application/vnd.databricks.v1+cell": {
     "cellMetadata": {
      "byteLimit": 2048000,
      "rowLimit": 10000
     },
     "inputWidgets": {},
     "nuid": "f004b811-81ab-498e-8723-ed4bc20a651e",
     "showTitle": false,
     "title": ""
    }
   },
   "outputs": [],
   "source": [
    "input_path='/mnt/silver/hfpms/claimed_insurances'"
   ]
  },
  {
   "cell_type": "code",
   "execution_count": 0,
   "metadata": {
    "application/vnd.databricks.v1+cell": {
     "cellMetadata": {
      "byteLimit": 2048000,
      "rowLimit": 10000
     },
     "inputWidgets": {},
     "nuid": "cc3f15d6-c7a0-4666-a276-e9d0a6569103",
     "showTitle": false,
     "title": ""
    }
   },
   "outputs": [],
   "source": [
    "df=spark.read.format('delta').load(input_path)"
   ]
  },
  {
   "cell_type": "code",
   "execution_count": 0,
   "metadata": {
    "application/vnd.databricks.v1+cell": {
     "cellMetadata": {
      "byteLimit": 2048000,
      "rowLimit": 10000
     },
     "inputWidgets": {},
     "nuid": "a965777e-8062-484c-8a58-5feb4846a8c2",
     "showTitle": false,
     "title": ""
    }
   },
   "outputs": [
    {
     "output_type": "display_data",
     "data": {
      "text/html": [
       "<style scoped>\n",
       "  .table-result-container {\n",
       "    max-height: 300px;\n",
       "    overflow: auto;\n",
       "  }\n",
       "  table, th, td {\n",
       "    border: 1px solid black;\n",
       "    border-collapse: collapse;\n",
       "  }\n",
       "  th, td {\n",
       "    padding: 5px;\n",
       "  }\n",
       "  th {\n",
       "    text-align: left;\n",
       "  }\n",
       "</style><div class='table-result-container'><table class='table-result'><thead style='background-color: white'><tr><th>id</th><th>patient_id</th><th>order_id</th><th>policy_no</th><th>claimed_amount</th><th>status</th><th>claimed_date</th></tr></thead><tbody><tr><td>1</td><td>20</td><td>5</td><td>56465BHJV</td><td>50</td><td>Pending</td><td>2022-07-13</td></tr><tr><td>2</td><td>20</td><td>4</td><td>BHJF454</td><td>30</td><td>Accepted</td><td>2022-08-03</td></tr></tbody></table></div>"
      ]
     },
     "metadata": {
      "application/vnd.databricks.v1+output": {
       "addedWidgets": {},
       "aggData": [],
       "aggError": "",
       "aggOverflow": false,
       "aggSchema": [],
       "aggSeriesLimitReached": false,
       "aggType": "",
       "arguments": {},
       "columnCustomDisplayInfos": {},
       "data": [
        [
         "1",
         "20",
         "5",
         "56465BHJV",
         "50",
         "Pending",
         "2022-07-13"
        ],
        [
         "2",
         "20",
         "4",
         "BHJF454",
         "30",
         "Accepted",
         "2022-08-03"
        ]
       ],
       "datasetInfos": [],
       "dbfsResultPath": null,
       "isJsonSchema": true,
       "metadata": {},
       "overflow": false,
       "plotOptions": {
        "customPlotOptions": {},
        "displayType": "table",
        "pivotAggregation": null,
        "pivotColumns": null,
        "xColumns": null,
        "yColumns": null
       },
       "removedWidgets": [],
       "schema": [
        {
         "metadata": "{}",
         "name": "id",
         "type": "\"string\""
        },
        {
         "metadata": "{}",
         "name": "patient_id",
         "type": "\"string\""
        },
        {
         "metadata": "{}",
         "name": "order_id",
         "type": "\"string\""
        },
        {
         "metadata": "{}",
         "name": "policy_no",
         "type": "\"string\""
        },
        {
         "metadata": "{}",
         "name": "claimed_amount",
         "type": "\"string\""
        },
        {
         "metadata": "{}",
         "name": "status",
         "type": "\"string\""
        },
        {
         "metadata": "{}",
         "name": "claimed_date",
         "type": "\"string\""
        }
       ],
       "type": "table"
      }
     },
     "output_type": "display_data"
    }
   ],
   "source": [
    "\n",
    "display(df)"
   ]
  },
  {
   "cell_type": "code",
   "execution_count": 0,
   "metadata": {
    "application/vnd.databricks.v1+cell": {
     "cellMetadata": {
      "byteLimit": 2048000,
      "rowLimit": 10000
     },
     "inputWidgets": {},
     "nuid": "48251260-8533-47bf-9c5b-2bf70b85d3eb",
     "showTitle": false,
     "title": ""
    }
   },
   "outputs": [
    {
     "output_type": "stream",
     "name": "stdout",
     "output_type": "stream",
     "text": [
      "['id', 'patient_id', 'order_id', 'policy_no', 'claimed_amount', 'status', 'claimed_date']\n"
     ]
    }
   ],
   "source": [
    "from pyspark.sql import SparkSession\n",
    "from pyspark.sql.functions import col,regexp_replace\n",
    "\n",
    "#   Get the list of column names\n",
    "\n",
    "column_names=df.columns\n",
    "print(column_names)\n",
    "\n",
    "for old_col_name in column_names:\n",
    "    #Change column name from ColumnName to col_name format\n",
    "    new_col_name=\"\".join([\"_\"+char if char.isupper() and not old_col_name[i-1].isupper() else char for i,char in enumerate(old_col_name)]).lstrip(\"_\")\n",
    "\n",
    "    #Change the column name using  withColumnRenamed and Regexp_replace\n",
    "    df=df.withColumnRenamed(old_col_name,new_col_name)"
   ]
  },
  {
   "cell_type": "code",
   "execution_count": 0,
   "metadata": {
    "application/vnd.databricks.v1+cell": {
     "cellMetadata": {
      "byteLimit": 2048000,
      "rowLimit": 10000
     },
     "inputWidgets": {},
     "nuid": "319e5a88-b61d-4cd7-915c-fcd5d3c62683",
     "showTitle": false,
     "title": ""
    }
   },
   "outputs": [
    {
     "output_type": "display_data",
     "data": {
      "text/html": [
       "<style scoped>\n",
       "  .table-result-container {\n",
       "    max-height: 300px;\n",
       "    overflow: auto;\n",
       "  }\n",
       "  table, th, td {\n",
       "    border: 1px solid black;\n",
       "    border-collapse: collapse;\n",
       "  }\n",
       "  th, td {\n",
       "    padding: 5px;\n",
       "  }\n",
       "  th {\n",
       "    text-align: left;\n",
       "  }\n",
       "</style><div class='table-result-container'><table class='table-result'><thead style='background-color: white'><tr><th>id</th><th>patient_id</th><th>order_id</th><th>policy_no</th><th>claimed_amount</th><th>status</th><th>claimed_date</th></tr></thead><tbody><tr><td>1</td><td>20</td><td>5</td><td>56465BHJV</td><td>50</td><td>Pending</td><td>2022-07-13</td></tr><tr><td>2</td><td>20</td><td>4</td><td>BHJF454</td><td>30</td><td>Accepted</td><td>2022-08-03</td></tr></tbody></table></div>"
      ]
     },
     "metadata": {
      "application/vnd.databricks.v1+output": {
       "addedWidgets": {},
       "aggData": [],
       "aggError": "",
       "aggOverflow": false,
       "aggSchema": [],
       "aggSeriesLimitReached": false,
       "aggType": "",
       "arguments": {},
       "columnCustomDisplayInfos": {},
       "data": [
        [
         "1",
         "20",
         "5",
         "56465BHJV",
         "50",
         "Pending",
         "2022-07-13"
        ],
        [
         "2",
         "20",
         "4",
         "BHJF454",
         "30",
         "Accepted",
         "2022-08-03"
        ]
       ],
       "datasetInfos": [],
       "dbfsResultPath": null,
       "isJsonSchema": true,
       "metadata": {},
       "overflow": false,
       "plotOptions": {
        "customPlotOptions": {},
        "displayType": "table",
        "pivotAggregation": null,
        "pivotColumns": null,
        "xColumns": null,
        "yColumns": null
       },
       "removedWidgets": [],
       "schema": [
        {
         "metadata": "{}",
         "name": "id",
         "type": "\"string\""
        },
        {
         "metadata": "{}",
         "name": "patient_id",
         "type": "\"string\""
        },
        {
         "metadata": "{}",
         "name": "order_id",
         "type": "\"string\""
        },
        {
         "metadata": "{}",
         "name": "policy_no",
         "type": "\"string\""
        },
        {
         "metadata": "{}",
         "name": "claimed_amount",
         "type": "\"string\""
        },
        {
         "metadata": "{}",
         "name": "status",
         "type": "\"string\""
        },
        {
         "metadata": "{}",
         "name": "claimed_date",
         "type": "\"string\""
        }
       ],
       "type": "table"
      }
     },
     "output_type": "display_data"
    }
   ],
   "source": [
    "display(df)"
   ]
  },
  {
   "cell_type": "markdown",
   "metadata": {
    "application/vnd.databricks.v1+cell": {
     "cellMetadata": {},
     "inputWidgets": {},
     "nuid": "23937424-4058-4707-973b-18b9d63d6669",
     "showTitle": false,
     "title": ""
    }
   },
   "source": [
    "##Doing Transformation for all Tables (changing Column names)"
   ]
  },
  {
   "cell_type": "code",
   "execution_count": 0,
   "metadata": {
    "application/vnd.databricks.v1+cell": {
     "cellMetadata": {
      "byteLimit": 2048000,
      "rowLimit": 10000
     },
     "inputWidgets": {},
     "nuid": "b51f0ff2-a797-4849-8203-5a3c849349ea",
     "showTitle": false,
     "title": ""
    }
   },
   "outputs": [],
   "source": [
    "table_name=[]\n",
    "for i in dbutils.fs.ls(\"/mnt/silver/hfpms\"):\n",
    "    table_name.append(i.name.split('/')[0])"
   ]
  },
  {
   "cell_type": "code",
   "execution_count": 0,
   "metadata": {
    "application/vnd.databricks.v1+cell": {
     "cellMetadata": {
      "byteLimit": 2048000,
      "rowLimit": 10000
     },
     "inputWidgets": {},
     "nuid": "2cdd5eea-813d-4393-a168-450e339b7efe",
     "showTitle": false,
     "title": ""
    }
   },
   "outputs": [
    {
     "output_type": "stream",
     "name": "stdout",
     "output_type": "stream",
     "text": [
      "['card_details', 'claimed_insurances', 'inventory_orders', 'medicines', 'order_details', 'order_payments', 'orders', 'prescriptions', 'user_activities', 'users']\n"
     ]
    }
   ],
   "source": [
    "print(table_name)"
   ]
  },
  {
   "cell_type": "code",
   "execution_count": 0,
   "metadata": {
    "application/vnd.databricks.v1+cell": {
     "cellMetadata": {
      "byteLimit": 2048000,
      "rowLimit": 10000
     },
     "inputWidgets": {},
     "nuid": "ea14d5e1-d0a7-4e24-9cbb-3557bd53567c",
     "showTitle": false,
     "title": ""
    }
   },
   "outputs": [
    {
     "output_type": "stream",
     "name": "stdout",
     "output_type": "stream",
     "text": [
      "['id', 'payment_id', 'auth_id', 'card_brand', 'card_num', 'full_name', 'cvv', 'expiry_date']\n['id', 'patient_id', 'order_id', 'policy_no', 'claimed_amount', 'status', 'claimed_date']\n['id', 'user_id', 'medicine_id', 'unit_price', 'quantity', 'total_amount', 'status', 'order_date']\n['id', 'type', 'label_name', 'manufacturer_name', 'barcode', 'unit_price', 'quantity', 'total_amount', 'label_size', 'storage_type', 'manufactured_date', 'availability']\n['id', 'patient_id', 'order_id', 'medicine_id', 'quantity', 'unit_price', 'total_amount']\n['id', 'patient_id', 'order_id', 'amount', 'status', 'payment_at']\n['order_id', 'patient_id', 'patient_name', 'email_address', 'phone', 'delivery_address', 'order_amount', 'order_status', 'payment_status', 'order_date']\n['id', 'patient_id', 'patient_name', 'email_address', 'phone', 'disease', 'prescriptions', 'disease_from', 'is_verified']\n['id', 'user_id', 'activity', 'role']\n['user_id', 'full_name', 'username', 'email_address', 'password', 'phone', 'address', 'role', 'status', 'registered_at']\n"
     ]
    }
   ],
   "source": [
    "for name in table_name:\n",
    "    path='/mnt/silver/hfpms/'+name\n",
    "    df=spark.read.format('delta').load(path)\n",
    "    col_names=df.columns\n",
    "    print(col_names)\n",
    "\n",
    "\n",
    "    for old_col_name in col_names:\n",
    "        #Change column name from ColumnName to col_name format\n",
    "        new_col_name=\"\".join([\"_\"+char if char.isupper() and not old_col_name[i-1].isupper() else char for i,char in enumerate(old_col_name)]).lstrip(\"_\")\n",
    "\n",
    "        #Change the column name using  withColumnRenamed and Regexp_replace\n",
    "        df=df.withColumnRenamed(old_col_name,new_col_name)\n",
    "\n",
    "    output_path='/mnt/gold/hfpms/'+name\n",
    "    df.write.format('Delta').mode(\"overwrite\").save(output_path)\n",
    "\n",
    "\n",
    "\n",
    "\n",
    "    \n"
   ]
  },
  {
   "cell_type": "code",
   "execution_count": 0,
   "metadata": {
    "application/vnd.databricks.v1+cell": {
     "cellMetadata": {
      "byteLimit": 2048000,
      "rowLimit": 10000
     },
     "inputWidgets": {},
     "nuid": "c34b18d3-9d9f-4317-9e53-cc22ab698f74",
     "showTitle": false,
     "title": ""
    }
   },
   "outputs": [
    {
     "output_type": "display_data",
     "data": {
      "text/html": [
       "<style scoped>\n",
       "  .table-result-container {\n",
       "    max-height: 300px;\n",
       "    overflow: auto;\n",
       "  }\n",
       "  table, th, td {\n",
       "    border: 1px solid black;\n",
       "    border-collapse: collapse;\n",
       "  }\n",
       "  th, td {\n",
       "    padding: 5px;\n",
       "  }\n",
       "  th {\n",
       "    text-align: left;\n",
       "  }\n",
       "</style><div class='table-result-container'><table class='table-result'><thead style='background-color: white'><tr><th>order_id</th><th>patient_id</th><th>patient_name</th><th>email_address</th><th>phone</th><th>delivery_address</th><th>order_amount</th><th>order_status</th><th>payment_status</th><th>order_date</th></tr></thead><tbody><tr><td>3</td><td>20</td><td>Alexa Adams</td><td>alexa@gmail.com</td><td>0151 334 2113</td><td>2 Bromborough Village Rd Wirral Merseyside</td><td>60</td><td>pending</td><td>paid</td><td>2022-07-13</td></tr><tr><td>4</td><td>19</td><td>Leo Brown</td><td>leobrown@gmail.com</td><td>01642 814404</td><td>251 Acklam Rd Middlesbrough Cleveland</td><td>78</td><td>delivered</td><td>paid</td><td>2022-07-13</td></tr><tr><td>5</td><td>20</td><td>Andrew</td><td>andrew@gmail.com</td><td>01642 814404</td><td>251 Acklam Rd Middlesbrough Cleveland</td><td>78</td><td>pending</td><td>paid</td><td>2022-07-13</td></tr></tbody></table></div>"
      ]
     },
     "metadata": {
      "application/vnd.databricks.v1+output": {
       "addedWidgets": {},
       "aggData": [],
       "aggError": "",
       "aggOverflow": false,
       "aggSchema": [],
       "aggSeriesLimitReached": false,
       "aggType": "",
       "arguments": {},
       "columnCustomDisplayInfos": {},
       "data": [
        [
         "3",
         "20",
         "Alexa Adams",
         "alexa@gmail.com",
         "0151 334 2113",
         "2 Bromborough Village Rd Wirral Merseyside",
         "60",
         "pending",
         "paid",
         "2022-07-13"
        ],
        [
         "4",
         "19",
         "Leo Brown",
         "leobrown@gmail.com",
         "01642 814404",
         "251 Acklam Rd Middlesbrough Cleveland",
         "78",
         "delivered",
         "paid",
         "2022-07-13"
        ],
        [
         "5",
         "20",
         "Andrew",
         "andrew@gmail.com",
         "01642 814404",
         "251 Acklam Rd Middlesbrough Cleveland",
         "78",
         "pending",
         "paid",
         "2022-07-13"
        ]
       ],
       "datasetInfos": [],
       "dbfsResultPath": null,
       "isJsonSchema": true,
       "metadata": {},
       "overflow": false,
       "plotOptions": {
        "customPlotOptions": {},
        "displayType": "table",
        "pivotAggregation": null,
        "pivotColumns": null,
        "xColumns": null,
        "yColumns": null
       },
       "removedWidgets": [],
       "schema": [
        {
         "metadata": "{}",
         "name": "order_id",
         "type": "\"string\""
        },
        {
         "metadata": "{}",
         "name": "patient_id",
         "type": "\"string\""
        },
        {
         "metadata": "{}",
         "name": "patient_name",
         "type": "\"string\""
        },
        {
         "metadata": "{}",
         "name": "email_address",
         "type": "\"string\""
        },
        {
         "metadata": "{}",
         "name": "phone",
         "type": "\"string\""
        },
        {
         "metadata": "{}",
         "name": "delivery_address",
         "type": "\"string\""
        },
        {
         "metadata": "{}",
         "name": "order_amount",
         "type": "\"string\""
        },
        {
         "metadata": "{}",
         "name": "order_status",
         "type": "\"string\""
        },
        {
         "metadata": "{}",
         "name": "payment_status",
         "type": "\"string\""
        },
        {
         "metadata": "{}",
         "name": "order_date",
         "type": "\"string\""
        }
       ],
       "type": "table"
      }
     },
     "output_type": "display_data"
    }
   ],
   "source": [
    "input='/mnt/gold/hfpms/orders'\n",
    "df=spark.read.format('delta').load(input)\n",
    "display(df)"
   ]
  }
 ],
 "metadata": {
  "application/vnd.databricks.v1+notebook": {
   "dashboards": [],
   "language": "python",
   "notebookMetadata": {
    "pythonIndentUnit": 4
   },
   "notebookName": "yt_silver to gold",
   "widgets": {}
  }
 },
 "nbformat": 4,
 "nbformat_minor": 0
}
