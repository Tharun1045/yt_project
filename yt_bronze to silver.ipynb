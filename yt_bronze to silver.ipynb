{
 "cells": [
  {
   "cell_type": "code",
   "execution_count": 0,
   "metadata": {
    "application/vnd.databricks.v1+cell": {
     "cellMetadata": {
      "byteLimit": 2048000,
      "rowLimit": 10000
     },
     "inputWidgets": {},
     "nuid": "616b50df-6c4d-4386-b3c1-61f2c4c81a84",
     "showTitle": false,
     "title": ""
    }
   },
   "outputs": [
    {
     "output_type": "execute_result",
     "data": {
      "text/plain": [
       "[FileInfo(path='dbfs:/mnt/bronze/hfpms/card_details/', name='card_details/', size=0, modificationTime=1712080112000),\n",
       " FileInfo(path='dbfs:/mnt/bronze/hfpms/claimed_insurances/', name='claimed_insurances/', size=0, modificationTime=1712080111000),\n",
       " FileInfo(path='dbfs:/mnt/bronze/hfpms/inventory_orders/', name='inventory_orders/', size=0, modificationTime=1712080110000),\n",
       " FileInfo(path='dbfs:/mnt/bronze/hfpms/medicines/', name='medicines/', size=0, modificationTime=1712080111000),\n",
       " FileInfo(path='dbfs:/mnt/bronze/hfpms/order_details/', name='order_details/', size=0, modificationTime=1712080110000),\n",
       " FileInfo(path='dbfs:/mnt/bronze/hfpms/order_payments/', name='order_payments/', size=0, modificationTime=1712080113000),\n",
       " FileInfo(path='dbfs:/mnt/bronze/hfpms/orders/', name='orders/', size=0, modificationTime=1712080109000),\n",
       " FileInfo(path='dbfs:/mnt/bronze/hfpms/prescriptions/', name='prescriptions/', size=0, modificationTime=1712080109000),\n",
       " FileInfo(path='dbfs:/mnt/bronze/hfpms/user_activities/', name='user_activities/', size=0, modificationTime=1712080110000),\n",
       " FileInfo(path='dbfs:/mnt/bronze/hfpms/users/', name='users/', size=0, modificationTime=1712080111000)]"
      ]
     },
     "execution_count": 3,
     "metadata": {},
     "output_type": "execute_result"
    }
   ],
   "source": [
    "dbutils.fs.ls('/mnt/bronze/hfpms')"
   ]
  },
  {
   "cell_type": "code",
   "execution_count": 0,
   "metadata": {
    "application/vnd.databricks.v1+cell": {
     "cellMetadata": {
      "byteLimit": 2048000,
      "rowLimit": 10000
     },
     "inputWidgets": {},
     "nuid": "693ad9bf-e89a-4b9a-9515-775a3dd2432a",
     "showTitle": false,
     "title": ""
    }
   },
   "outputs": [
    {
     "output_type": "execute_result",
     "data": {
      "text/plain": [
       "[FileInfo(path='dbfs:/mnt/silver/hfpmscard_details/', name='hfpmscard_details/', size=0, modificationTime=1712145076000),\n",
       " FileInfo(path='dbfs:/mnt/silver/hfpmsclaimed_insurances/', name='hfpmsclaimed_insurances/', size=0, modificationTime=1712145085000),\n",
       " FileInfo(path='dbfs:/mnt/silver/hfpmsinventory_orders/', name='hfpmsinventory_orders/', size=0, modificationTime=1712145094000),\n",
       " FileInfo(path='dbfs:/mnt/silver/hfpmsmedicines/', name='hfpmsmedicines/', size=0, modificationTime=1712145104000),\n",
       " FileInfo(path='dbfs:/mnt/silver/hfpmsorder_details/', name='hfpmsorder_details/', size=0, modificationTime=1712145114000),\n",
       " FileInfo(path='dbfs:/mnt/silver/hfpmsorder_payments/', name='hfpmsorder_payments/', size=0, modificationTime=1712145124000),\n",
       " FileInfo(path='dbfs:/mnt/silver/hfpmsorders/', name='hfpmsorders/', size=0, modificationTime=1712145133000),\n",
       " FileInfo(path='dbfs:/mnt/silver/hfpmsprescriptions/', name='hfpmsprescriptions/', size=0, modificationTime=1712145143000),\n",
       " FileInfo(path='dbfs:/mnt/silver/hfpmsuser_activities/', name='hfpmsuser_activities/', size=0, modificationTime=1712145153000),\n",
       " FileInfo(path='dbfs:/mnt/silver/hfpmsusers/', name='hfpmsusers/', size=0, modificationTime=1712145162000)]"
      ]
     },
     "execution_count": 4,
     "metadata": {},
     "output_type": "execute_result"
    }
   ],
   "source": [
    "dbutils.fs.ls('/mnt/silver')"
   ]
  },
  {
   "cell_type": "code",
   "execution_count": 0,
   "metadata": {
    "application/vnd.databricks.v1+cell": {
     "cellMetadata": {
      "byteLimit": 2048000,
      "rowLimit": 10000
     },
     "inputWidgets": {},
     "nuid": "0ee4ece6-f8cf-4edd-b15e-c68436d7b67a",
     "showTitle": false,
     "title": ""
    }
   },
   "outputs": [],
   "source": [
    "input_path=('/mnt/bronze/hfpms/claimed_insurances/claimed_insurances.csv')"
   ]
  },
  {
   "cell_type": "code",
   "execution_count": 0,
   "metadata": {
    "application/vnd.databricks.v1+cell": {
     "cellMetadata": {
      "byteLimit": 2048000,
      "rowLimit": 10000
     },
     "inputWidgets": {},
     "nuid": "5c707a7b-5518-447e-88ce-63d0f8a5e182",
     "showTitle": false,
     "title": ""
    }
   },
   "outputs": [],
   "source": [
    "df=spark.read.format('csv').option(\"header\",\"true\").load(input_path)"
   ]
  },
  {
   "cell_type": "code",
   "execution_count": 0,
   "metadata": {
    "application/vnd.databricks.v1+cell": {
     "cellMetadata": {
      "byteLimit": 2048000,
      "rowLimit": 10000
     },
     "inputWidgets": {},
     "nuid": "530e5dd9-c1f6-4b63-af60-b7d509cee59e",
     "showTitle": false,
     "title": ""
    }
   },
   "outputs": [
    {
     "output_type": "display_data",
     "data": {
      "text/html": [
       "<style scoped>\n",
       "  .table-result-container {\n",
       "    max-height: 300px;\n",
       "    overflow: auto;\n",
       "  }\n",
       "  table, th, td {\n",
       "    border: 1px solid black;\n",
       "    border-collapse: collapse;\n",
       "  }\n",
       "  th, td {\n",
       "    padding: 5px;\n",
       "  }\n",
       "  th {\n",
       "    text-align: left;\n",
       "  }\n",
       "</style><div class='table-result-container'><table class='table-result'><thead style='background-color: white'><tr><th>id</th><th>patient_id</th><th>order_id</th><th>policy_no</th><th>claimed_amount</th><th>status</th><th>claimed_date</th></tr></thead><tbody><tr><td>1</td><td>20</td><td>5</td><td>56465BHJV</td><td>50</td><td>Pending</td><td>2022-07-13 18:09:21.0000000</td></tr><tr><td>2</td><td>20</td><td>4</td><td>BHJF454</td><td>30</td><td>Accepted</td><td>2022-08-03 16:09:39.0000000</td></tr></tbody></table></div>"
      ]
     },
     "metadata": {
      "application/vnd.databricks.v1+output": {
       "addedWidgets": {},
       "aggData": [],
       "aggError": "",
       "aggOverflow": false,
       "aggSchema": [],
       "aggSeriesLimitReached": false,
       "aggType": "",
       "arguments": {},
       "columnCustomDisplayInfos": {},
       "data": [
        [
         "1",
         "20",
         "5",
         "56465BHJV",
         "50",
         "Pending",
         "2022-07-13 18:09:21.0000000"
        ],
        [
         "2",
         "20",
         "4",
         "BHJF454",
         "30",
         "Accepted",
         "2022-08-03 16:09:39.0000000"
        ]
       ],
       "datasetInfos": [],
       "dbfsResultPath": null,
       "isJsonSchema": true,
       "metadata": {},
       "overflow": false,
       "plotOptions": {
        "customPlotOptions": {},
        "displayType": "table",
        "pivotAggregation": null,
        "pivotColumns": null,
        "xColumns": null,
        "yColumns": null
       },
       "removedWidgets": [],
       "schema": [
        {
         "metadata": "{}",
         "name": "id",
         "type": "\"string\""
        },
        {
         "metadata": "{}",
         "name": "patient_id",
         "type": "\"string\""
        },
        {
         "metadata": "{}",
         "name": "order_id",
         "type": "\"string\""
        },
        {
         "metadata": "{}",
         "name": "policy_no",
         "type": "\"string\""
        },
        {
         "metadata": "{}",
         "name": "claimed_amount",
         "type": "\"string\""
        },
        {
         "metadata": "{}",
         "name": "status",
         "type": "\"string\""
        },
        {
         "metadata": "{}",
         "name": "claimed_date",
         "type": "\"string\""
        }
       ],
       "type": "table"
      }
     },
     "output_type": "display_data"
    }
   ],
   "source": [
    "df.head()\n",
    "display(df)"
   ]
  },
  {
   "cell_type": "markdown",
   "metadata": {
    "application/vnd.databricks.v1+cell": {
     "cellMetadata": {},
     "inputWidgets": {},
     "nuid": "1bb113ed-a8b1-45a6-bf89-3e83a5cada26",
     "showTitle": false,
     "title": ""
    }
   },
   "source": [
    "## Transforming date format for one table"
   ]
  },
  {
   "cell_type": "code",
   "execution_count": 0,
   "metadata": {
    "application/vnd.databricks.v1+cell": {
     "cellMetadata": {
      "byteLimit": 2048000,
      "rowLimit": 10000
     },
     "inputWidgets": {},
     "nuid": "0391689c-313c-4b9b-8145-1fcea5f5c4cc",
     "showTitle": false,
     "title": ""
    }
   },
   "outputs": [],
   "source": [
    "from pyspark.sql.functions import date_format,from_utc_timestamp\n",
    "from pyspark.sql.types import TimestampType\n",
    "\n",
    "df=df.withColumn(\"claimed_date\",date_format(from_utc_timestamp(df[\"claimed_date\"].cast(TimestampType()),\"UTC\"),\"yyyy-MM-dd\"))"
   ]
  },
  {
   "cell_type": "code",
   "execution_count": 0,
   "metadata": {
    "application/vnd.databricks.v1+cell": {
     "cellMetadata": {
      "byteLimit": 2048000,
      "rowLimit": 10000
     },
     "inputWidgets": {},
     "nuid": "686ab7f4-a351-4d86-819c-ab1f041cfc23",
     "showTitle": false,
     "title": ""
    }
   },
   "outputs": [
    {
     "output_type": "display_data",
     "data": {
      "text/html": [
       "<style scoped>\n",
       "  .table-result-container {\n",
       "    max-height: 300px;\n",
       "    overflow: auto;\n",
       "  }\n",
       "  table, th, td {\n",
       "    border: 1px solid black;\n",
       "    border-collapse: collapse;\n",
       "  }\n",
       "  th, td {\n",
       "    padding: 5px;\n",
       "  }\n",
       "  th {\n",
       "    text-align: left;\n",
       "  }\n",
       "</style><div class='table-result-container'><table class='table-result'><thead style='background-color: white'><tr><th>id</th><th>patient_id</th><th>order_id</th><th>policy_no</th><th>claimed_amount</th><th>status</th><th>claimed_date</th></tr></thead><tbody><tr><td>1</td><td>20</td><td>5</td><td>56465BHJV</td><td>50</td><td>Pending</td><td>2022-07-13</td></tr><tr><td>2</td><td>20</td><td>4</td><td>BHJF454</td><td>30</td><td>Accepted</td><td>2022-08-03</td></tr></tbody></table></div>"
      ]
     },
     "metadata": {
      "application/vnd.databricks.v1+output": {
       "addedWidgets": {},
       "aggData": [],
       "aggError": "",
       "aggOverflow": false,
       "aggSchema": [],
       "aggSeriesLimitReached": false,
       "aggType": "",
       "arguments": {},
       "columnCustomDisplayInfos": {},
       "data": [
        [
         "1",
         "20",
         "5",
         "56465BHJV",
         "50",
         "Pending",
         "2022-07-13"
        ],
        [
         "2",
         "20",
         "4",
         "BHJF454",
         "30",
         "Accepted",
         "2022-08-03"
        ]
       ],
       "datasetInfos": [],
       "dbfsResultPath": null,
       "isJsonSchema": true,
       "metadata": {},
       "overflow": false,
       "plotOptions": {
        "customPlotOptions": {},
        "displayType": "table",
        "pivotAggregation": null,
        "pivotColumns": null,
        "xColumns": null,
        "yColumns": null
       },
       "removedWidgets": [],
       "schema": [
        {
         "metadata": "{}",
         "name": "id",
         "type": "\"string\""
        },
        {
         "metadata": "{}",
         "name": "patient_id",
         "type": "\"string\""
        },
        {
         "metadata": "{}",
         "name": "order_id",
         "type": "\"string\""
        },
        {
         "metadata": "{}",
         "name": "policy_no",
         "type": "\"string\""
        },
        {
         "metadata": "{}",
         "name": "claimed_amount",
         "type": "\"string\""
        },
        {
         "metadata": "{}",
         "name": "status",
         "type": "\"string\""
        },
        {
         "metadata": "{}",
         "name": "claimed_date",
         "type": "\"string\""
        }
       ],
       "type": "table"
      }
     },
     "output_type": "display_data"
    }
   ],
   "source": [
    "display(df)"
   ]
  },
  {
   "cell_type": "code",
   "execution_count": 0,
   "metadata": {
    "application/vnd.databricks.v1+cell": {
     "cellMetadata": {
      "byteLimit": 2048000,
      "rowLimit": 10000
     },
     "inputWidgets": {},
     "nuid": "216e59bd-a80b-4e2c-b5c4-051f6f290d35",
     "showTitle": false,
     "title": ""
    }
   },
   "outputs": [],
   "source": [
    " #it is used to create temp view/table of dataframe result, this temp view/table will delete if spark session ends/terminates.\n",
    "\n",
    " df.createOrReplaceTempView(\"df_tempView\")"
   ]
  },
  {
   "cell_type": "code",
   "execution_count": 0,
   "metadata": {
    "application/vnd.databricks.v1+cell": {
     "cellMetadata": {
      "byteLimit": 2048000,
      "rowLimit": 10000
     },
     "inputWidgets": {},
     "nuid": "fef68469-2dab-4e46-a1ea-932612057db1",
     "showTitle": false,
     "title": ""
    },
    "jupyter": {
     "outputs_hidden": true,
     "source_hidden": true
    }
   },
   "outputs": [],
   "source": [
    " #we can access above temp view/table using SQL commands from Spark terminal\n",
    " spark.sql(\"select policy_no from df_tempView\").show() "
   ]
  },
  {
   "cell_type": "code",
   "execution_count": 0,
   "metadata": {
    "application/vnd.databricks.v1+cell": {
     "cellMetadata": {
      "byteLimit": 2048000,
      "implicitDf": true,
      "rowLimit": 10000
     },
     "inputWidgets": {},
     "nuid": "cbaf47bb-8ff6-4001-8d42-0dc1fa470578",
     "showTitle": false,
     "title": ""
    },
    "jupyter": {
     "outputs_hidden": true,
     "source_hidden": true
    }
   },
   "outputs": [],
   "source": [
    "%sql\n",
    "-- we can access above temp view/table using SQL commands from SQL terminal\n",
    "select policy_no from df_tempView  "
   ]
  },
  {
   "cell_type": "markdown",
   "metadata": {
    "application/vnd.databricks.v1+cell": {
     "cellMetadata": {},
     "inputWidgets": {},
     "nuid": "a0ff8d52-0b9d-4457-9dd6-4c29b054ef1a",
     "showTitle": false,
     "title": ""
    }
   },
   "source": [
    "## Transforming Date format to all tables"
   ]
  },
  {
   "cell_type": "code",
   "execution_count": 0,
   "metadata": {
    "application/vnd.databricks.v1+cell": {
     "cellMetadata": {
      "byteLimit": 2048000,
      "rowLimit": 10000
     },
     "inputWidgets": {},
     "nuid": "62101f18-fff5-4852-8e13-7edd0c7e80a2",
     "showTitle": false,
     "title": ""
    }
   },
   "outputs": [],
   "source": [
    "table_name=[]\n",
    "\n",
    "for i in dbutils.fs.ls(\"/mnt/bronze/hfpms/\"):\n",
    " table_name.append(i.name.split('/')[0])\n"
   ]
  },
  {
   "cell_type": "code",
   "execution_count": 0,
   "metadata": {
    "application/vnd.databricks.v1+cell": {
     "cellMetadata": {
      "byteLimit": 2048000,
      "rowLimit": 10000
     },
     "inputWidgets": {},
     "nuid": "f5b31eae-050f-4a8b-80b3-f2c293c594b2",
     "showTitle": false,
     "title": ""
    }
   },
   "outputs": [
    {
     "output_type": "execute_result",
     "data": {
      "text/plain": [
       "['card_details',\n",
       " 'claimed_insurances',\n",
       " 'inventory_orders',\n",
       " 'medicines',\n",
       " 'order_details',\n",
       " 'order_payments',\n",
       " 'orders',\n",
       " 'prescriptions',\n",
       " 'user_activities',\n",
       " 'users']"
      ]
     },
     "execution_count": 2,
     "metadata": {},
     "output_type": "execute_result"
    }
   ],
   "source": [
    "table_name"
   ]
  },
  {
   "cell_type": "code",
   "execution_count": 0,
   "metadata": {
    "application/vnd.databricks.v1+cell": {
     "cellMetadata": {
      "byteLimit": 2048000,
      "rowLimit": 10000
     },
     "inputWidgets": {},
     "nuid": "6f72d653-0360-4831-9799-a55689d02a7c",
     "showTitle": false,
     "title": ""
    }
   },
   "outputs": [
    {
     "output_type": "stream",
     "name": "stdout",
     "output_type": "stream",
     "text": [
      "order_payments\n"
     ]
    },
    {
     "output_type": "display_data",
     "data": {
      "text/plain": [
       "'id'"
      ]
     },
     "metadata": {},
     "output_type": "display_data"
    },
    {
     "output_type": "display_data",
     "data": {
      "text/plain": [
       "'payment_id'"
      ]
     },
     "metadata": {},
     "output_type": "display_data"
    },
    {
     "output_type": "display_data",
     "data": {
      "text/plain": [
       "'auth_id'"
      ]
     },
     "metadata": {},
     "output_type": "display_data"
    },
    {
     "output_type": "display_data",
     "data": {
      "text/plain": [
       "'card_brand'"
      ]
     },
     "metadata": {},
     "output_type": "display_data"
    },
    {
     "output_type": "display_data",
     "data": {
      "text/plain": [
       "'card_num'"
      ]
     },
     "metadata": {},
     "output_type": "display_data"
    },
    {
     "output_type": "display_data",
     "data": {
      "text/plain": [
       "'full_name'"
      ]
     },
     "metadata": {},
     "output_type": "display_data"
    },
    {
     "output_type": "display_data",
     "data": {
      "text/plain": [
       "'cvv'"
      ]
     },
     "metadata": {},
     "output_type": "display_data"
    },
    {
     "output_type": "display_data",
     "data": {
      "text/plain": [
       "'expiry_date'"
      ]
     },
     "metadata": {},
     "output_type": "display_data"
    },
    {
     "output_type": "display_data",
     "data": {
      "text/plain": [
       "'expiry_date'"
      ]
     },
     "metadata": {},
     "output_type": "display_data"
    },
    {
     "output_type": "display_data",
     "data": {
      "text/html": [
       "<style scoped>\n",
       "  .table-result-container {\n",
       "    max-height: 300px;\n",
       "    overflow: auto;\n",
       "  }\n",
       "  table, th, td {\n",
       "    border: 1px solid black;\n",
       "    border-collapse: collapse;\n",
       "  }\n",
       "  th, td {\n",
       "    padding: 5px;\n",
       "  }\n",
       "  th {\n",
       "    text-align: left;\n",
       "  }\n",
       "</style><div class='table-result-container'><table class='table-result'><thead style='background-color: white'><tr><th>id</th><th>payment_id</th><th>auth_id</th><th>card_brand</th><th>card_num</th><th>full_name</th><th>cvv</th><th>expiry_date</th></tr></thead><tbody><tr><td>1</td><td>1</td><td>20</td><td>JCB</td><td>3569788363617728</td><td>Imogen Wilson</td><td>424</td><td>2023-08-12</td></tr></tbody></table></div>"
      ]
     },
     "metadata": {
      "application/vnd.databricks.v1+output": {
       "addedWidgets": {},
       "aggData": [],
       "aggError": "",
       "aggOverflow": false,
       "aggSchema": [],
       "aggSeriesLimitReached": false,
       "aggType": "",
       "arguments": {},
       "columnCustomDisplayInfos": {},
       "data": [
        [
         "1",
         "1",
         "20",
         "JCB",
         "3569788363617728",
         "Imogen Wilson",
         "424",
         "2023-08-12"
        ]
       ],
       "datasetInfos": [],
       "dbfsResultPath": null,
       "isJsonSchema": true,
       "metadata": {},
       "overflow": false,
       "plotOptions": {
        "customPlotOptions": {},
        "displayType": "table",
        "pivotAggregation": null,
        "pivotColumns": null,
        "xColumns": null,
        "yColumns": null
       },
       "removedWidgets": [],
       "schema": [
        {
         "metadata": "{}",
         "name": "id",
         "type": "\"string\""
        },
        {
         "metadata": "{}",
         "name": "payment_id",
         "type": "\"string\""
        },
        {
         "metadata": "{}",
         "name": "auth_id",
         "type": "\"string\""
        },
        {
         "metadata": "{}",
         "name": "card_brand",
         "type": "\"string\""
        },
        {
         "metadata": "{}",
         "name": "card_num",
         "type": "\"string\""
        },
        {
         "metadata": "{}",
         "name": "full_name",
         "type": "\"string\""
        },
        {
         "metadata": "{}",
         "name": "cvv",
         "type": "\"string\""
        },
        {
         "metadata": "{}",
         "name": "expiry_date",
         "type": "\"string\""
        }
       ],
       "type": "table"
      }
     },
     "output_type": "display_data"
    },
    {
     "output_type": "display_data",
     "data": {
      "text/plain": [
       "'id'"
      ]
     },
     "metadata": {},
     "output_type": "display_data"
    },
    {
     "output_type": "display_data",
     "data": {
      "text/plain": [
       "'patient_id'"
      ]
     },
     "metadata": {},
     "output_type": "display_data"
    },
    {
     "output_type": "display_data",
     "data": {
      "text/plain": [
       "'order_id'"
      ]
     },
     "metadata": {},
     "output_type": "display_data"
    },
    {
     "output_type": "display_data",
     "data": {
      "text/plain": [
       "'policy_no'"
      ]
     },
     "metadata": {},
     "output_type": "display_data"
    },
    {
     "output_type": "display_data",
     "data": {
      "text/plain": [
       "'claimed_amount'"
      ]
     },
     "metadata": {},
     "output_type": "display_data"
    },
    {
     "output_type": "display_data",
     "data": {
      "text/plain": [
       "'status'"
      ]
     },
     "metadata": {},
     "output_type": "display_data"
    },
    {
     "output_type": "display_data",
     "data": {
      "text/plain": [
       "'claimed_date'"
      ]
     },
     "metadata": {},
     "output_type": "display_data"
    },
    {
     "output_type": "display_data",
     "data": {
      "text/plain": [
       "'claimed_date'"
      ]
     },
     "metadata": {},
     "output_type": "display_data"
    },
    {
     "output_type": "display_data",
     "data": {
      "text/html": [
       "<style scoped>\n",
       "  .table-result-container {\n",
       "    max-height: 300px;\n",
       "    overflow: auto;\n",
       "  }\n",
       "  table, th, td {\n",
       "    border: 1px solid black;\n",
       "    border-collapse: collapse;\n",
       "  }\n",
       "  th, td {\n",
       "    padding: 5px;\n",
       "  }\n",
       "  th {\n",
       "    text-align: left;\n",
       "  }\n",
       "</style><div class='table-result-container'><table class='table-result'><thead style='background-color: white'><tr><th>id</th><th>patient_id</th><th>order_id</th><th>policy_no</th><th>claimed_amount</th><th>status</th><th>claimed_date</th></tr></thead><tbody><tr><td>1</td><td>20</td><td>5</td><td>56465BHJV</td><td>50</td><td>Pending</td><td>2022-07-13 18:09:21.0000000</td></tr><tr><td>2</td><td>20</td><td>4</td><td>BHJF454</td><td>30</td><td>Accepted</td><td>2022-08-03 16:09:39.0000000</td></tr></tbody></table></div>"
      ]
     },
     "metadata": {
      "application/vnd.databricks.v1+output": {
       "addedWidgets": {},
       "aggData": [],
       "aggError": "",
       "aggOverflow": false,
       "aggSchema": [],
       "aggSeriesLimitReached": false,
       "aggType": "",
       "arguments": {},
       "columnCustomDisplayInfos": {},
       "data": [
        [
         "1",
         "20",
         "5",
         "56465BHJV",
         "50",
         "Pending",
         "2022-07-13 18:09:21.0000000"
        ],
        [
         "2",
         "20",
         "4",
         "BHJF454",
         "30",
         "Accepted",
         "2022-08-03 16:09:39.0000000"
        ]
       ],
       "datasetInfos": [],
       "dbfsResultPath": null,
       "isJsonSchema": true,
       "metadata": {},
       "overflow": false,
       "plotOptions": {
        "customPlotOptions": {},
        "displayType": "table",
        "pivotAggregation": null,
        "pivotColumns": null,
        "xColumns": null,
        "yColumns": null
       },
       "removedWidgets": [],
       "schema": [
        {
         "metadata": "{}",
         "name": "id",
         "type": "\"string\""
        },
        {
         "metadata": "{}",
         "name": "patient_id",
         "type": "\"string\""
        },
        {
         "metadata": "{}",
         "name": "order_id",
         "type": "\"string\""
        },
        {
         "metadata": "{}",
         "name": "policy_no",
         "type": "\"string\""
        },
        {
         "metadata": "{}",
         "name": "claimed_amount",
         "type": "\"string\""
        },
        {
         "metadata": "{}",
         "name": "status",
         "type": "\"string\""
        },
        {
         "metadata": "{}",
         "name": "claimed_date",
         "type": "\"string\""
        }
       ],
       "type": "table"
      }
     },
     "output_type": "display_data"
    },
    {
     "output_type": "display_data",
     "data": {
      "text/plain": [
       "'id'"
      ]
     },
     "metadata": {},
     "output_type": "display_data"
    },
    {
     "output_type": "display_data",
     "data": {
      "text/plain": [
       "'user_id'"
      ]
     },
     "metadata": {},
     "output_type": "display_data"
    },
    {
     "output_type": "display_data",
     "data": {
      "text/plain": [
       "'medicine_id'"
      ]
     },
     "metadata": {},
     "output_type": "display_data"
    },
    {
     "output_type": "display_data",
     "data": {
      "text/plain": [
       "'unit_price'"
      ]
     },
     "metadata": {},
     "output_type": "display_data"
    },
    {
     "output_type": "display_data",
     "data": {
      "text/plain": [
       "'quantity'"
      ]
     },
     "metadata": {},
     "output_type": "display_data"
    },
    {
     "output_type": "display_data",
     "data": {
      "text/plain": [
       "'total_amount'"
      ]
     },
     "metadata": {},
     "output_type": "display_data"
    },
    {
     "output_type": "display_data",
     "data": {
      "text/plain": [
       "'status'"
      ]
     },
     "metadata": {},
     "output_type": "display_data"
    },
    {
     "output_type": "display_data",
     "data": {
      "text/plain": [
       "'order_date'"
      ]
     },
     "metadata": {},
     "output_type": "display_data"
    },
    {
     "output_type": "display_data",
     "data": {
      "text/plain": [
       "'order_date'"
      ]
     },
     "metadata": {},
     "output_type": "display_data"
    },
    {
     "output_type": "display_data",
     "data": {
      "text/html": [
       "<style scoped>\n",
       "  .table-result-container {\n",
       "    max-height: 300px;\n",
       "    overflow: auto;\n",
       "  }\n",
       "  table, th, td {\n",
       "    border: 1px solid black;\n",
       "    border-collapse: collapse;\n",
       "  }\n",
       "  th, td {\n",
       "    padding: 5px;\n",
       "  }\n",
       "  th {\n",
       "    text-align: left;\n",
       "  }\n",
       "</style><div class='table-result-container'><table class='table-result'><thead style='background-color: white'><tr><th>id</th><th>user_id</th><th>medicine_id</th><th>unit_price</th><th>quantity</th><th>total_amount</th><th>status</th><th>order_date</th></tr></thead><tbody><tr><td>1</td><td>1</td><td>6</td><td>26</td><td>3</td><td>78</td><td>Delivered</td><td>2022-07-13 17:01:40.0000000</td></tr><tr><td>5</td><td>1</td><td>1</td><td>15</td><td>6</td><td>90</td><td>Cancellled</td><td>2022-07-13 17:10:06.0000000</td></tr><tr><td>6</td><td>1</td><td>5</td><td>27</td><td>7</td><td>189</td><td>Delivered</td><td>2022-07-13 17:10:13.0000000</td></tr><tr><td>7</td><td>1</td><td>2</td><td>16</td><td>8</td><td>128</td><td>Pending</td><td>2022-07-13 17:11:25.0000000</td></tr><tr><td>8</td><td>1</td><td>3</td><td>26</td><td>8</td><td>208</td><td>Confirmed</td><td>2022-07-13 17:11:45.0000000</td></tr><tr><td>9</td><td>1</td><td>7</td><td>25</td><td>7</td><td>175</td><td>Delivered</td><td>2022-07-13 17:12:17.0000000</td></tr><tr><td>10</td><td>1</td><td>4</td><td>24</td><td>6</td><td>144</td><td>Pending</td><td>2022-07-13 17:12:31.0000000</td></tr><tr><td>11</td><td>12</td><td>2</td><td>16</td><td>2</td><td>32</td><td>Pending</td><td>2022-07-13 17:19:07.0000000</td></tr><tr><td>12</td><td>12</td><td>6</td><td>26</td><td>1</td><td>26</td><td>Pending</td><td>2022-07-13 17:19:40.0000000</td></tr></tbody></table></div>"
      ]
     },
     "metadata": {
      "application/vnd.databricks.v1+output": {
       "addedWidgets": {},
       "aggData": [],
       "aggError": "",
       "aggOverflow": false,
       "aggSchema": [],
       "aggSeriesLimitReached": false,
       "aggType": "",
       "arguments": {},
       "columnCustomDisplayInfos": {},
       "data": [
        [
         "1",
         "1",
         "6",
         "26",
         "3",
         "78",
         "Delivered",
         "2022-07-13 17:01:40.0000000"
        ],
        [
         "5",
         "1",
         "1",
         "15",
         "6",
         "90",
         "Cancellled",
         "2022-07-13 17:10:06.0000000"
        ],
        [
         "6",
         "1",
         "5",
         "27",
         "7",
         "189",
         "Delivered",
         "2022-07-13 17:10:13.0000000"
        ],
        [
         "7",
         "1",
         "2",
         "16",
         "8",
         "128",
         "Pending",
         "2022-07-13 17:11:25.0000000"
        ],
        [
         "8",
         "1",
         "3",
         "26",
         "8",
         "208",
         "Confirmed",
         "2022-07-13 17:11:45.0000000"
        ],
        [
         "9",
         "1",
         "7",
         "25",
         "7",
         "175",
         "Delivered",
         "2022-07-13 17:12:17.0000000"
        ],
        [
         "10",
         "1",
         "4",
         "24",
         "6",
         "144",
         "Pending",
         "2022-07-13 17:12:31.0000000"
        ],
        [
         "11",
         "12",
         "2",
         "16",
         "2",
         "32",
         "Pending",
         "2022-07-13 17:19:07.0000000"
        ],
        [
         "12",
         "12",
         "6",
         "26",
         "1",
         "26",
         "Pending",
         "2022-07-13 17:19:40.0000000"
        ]
       ],
       "datasetInfos": [],
       "dbfsResultPath": null,
       "isJsonSchema": true,
       "metadata": {},
       "overflow": false,
       "plotOptions": {
        "customPlotOptions": {},
        "displayType": "table",
        "pivotAggregation": null,
        "pivotColumns": null,
        "xColumns": null,
        "yColumns": null
       },
       "removedWidgets": [],
       "schema": [
        {
         "metadata": "{}",
         "name": "id",
         "type": "\"string\""
        },
        {
         "metadata": "{}",
         "name": "user_id",
         "type": "\"string\""
        },
        {
         "metadata": "{}",
         "name": "medicine_id",
         "type": "\"string\""
        },
        {
         "metadata": "{}",
         "name": "unit_price",
         "type": "\"string\""
        },
        {
         "metadata": "{}",
         "name": "quantity",
         "type": "\"string\""
        },
        {
         "metadata": "{}",
         "name": "total_amount",
         "type": "\"string\""
        },
        {
         "metadata": "{}",
         "name": "status",
         "type": "\"string\""
        },
        {
         "metadata": "{}",
         "name": "order_date",
         "type": "\"string\""
        }
       ],
       "type": "table"
      }
     },
     "output_type": "display_data"
    },
    {
     "output_type": "display_data",
     "data": {
      "text/plain": [
       "'id'"
      ]
     },
     "metadata": {},
     "output_type": "display_data"
    },
    {
     "output_type": "display_data",
     "data": {
      "text/plain": [
       "'type'"
      ]
     },
     "metadata": {},
     "output_type": "display_data"
    },
    {
     "output_type": "display_data",
     "data": {
      "text/plain": [
       "'label_name'"
      ]
     },
     "metadata": {},
     "output_type": "display_data"
    },
    {
     "output_type": "display_data",
     "data": {
      "text/plain": [
       "'manufacturer_name'"
      ]
     },
     "metadata": {},
     "output_type": "display_data"
    },
    {
     "output_type": "display_data",
     "data": {
      "text/plain": [
       "'barcode'"
      ]
     },
     "metadata": {},
     "output_type": "display_data"
    },
    {
     "output_type": "display_data",
     "data": {
      "text/plain": [
       "'unit_price'"
      ]
     },
     "metadata": {},
     "output_type": "display_data"
    },
    {
     "output_type": "display_data",
     "data": {
      "text/plain": [
       "'quantity'"
      ]
     },
     "metadata": {},
     "output_type": "display_data"
    },
    {
     "output_type": "display_data",
     "data": {
      "text/plain": [
       "'total_amount'"
      ]
     },
     "metadata": {},
     "output_type": "display_data"
    },
    {
     "output_type": "display_data",
     "data": {
      "text/plain": [
       "'label_size'"
      ]
     },
     "metadata": {},
     "output_type": "display_data"
    },
    {
     "output_type": "display_data",
     "data": {
      "text/plain": [
       "'storage_type'"
      ]
     },
     "metadata": {},
     "output_type": "display_data"
    },
    {
     "output_type": "display_data",
     "data": {
      "text/plain": [
       "'manufactured_date'"
      ]
     },
     "metadata": {},
     "output_type": "display_data"
    },
    {
     "output_type": "display_data",
     "data": {
      "text/plain": [
       "'manufactured_date'"
      ]
     },
     "metadata": {},
     "output_type": "display_data"
    },
    {
     "output_type": "display_data",
     "data": {
      "text/html": [
       "<style scoped>\n",
       "  .table-result-container {\n",
       "    max-height: 300px;\n",
       "    overflow: auto;\n",
       "  }\n",
       "  table, th, td {\n",
       "    border: 1px solid black;\n",
       "    border-collapse: collapse;\n",
       "  }\n",
       "  th, td {\n",
       "    padding: 5px;\n",
       "  }\n",
       "  th {\n",
       "    text-align: left;\n",
       "  }\n",
       "</style><div class='table-result-container'><table class='table-result'><thead style='background-color: white'><tr><th>id</th><th>type</th><th>label_name</th><th>manufacturer_name</th><th>barcode</th><th>unit_price</th><th>quantity</th><th>total_amount</th><th>label_size</th><th>storage_type</th><th>manufactured_date</th><th>availability</th></tr></thead><tbody><tr><td>1</td><td>Tablet</td><td>Heparins</td><td>Boehringer Ingelheim Ltd</td><td>548HG54554</td><td>15</td><td>3</td><td>45</td><td>7X8</td><td>Room temperature</td><td>2022-07-13 11:19:38.0000000</td><td>no</td></tr><tr><td>2</td><td>Tablet</td><td>Vigabide</td><td>Senger Inc</td><td>484YGH445</td><td>16</td><td>5</td><td>80</td><td>5X2</td><td>Room temperature</td><td>2022-07-13 16:50:32.0000000</td><td>yes</td></tr><tr><td>3</td><td>Syrup</td><td>Benzotropin</td><td>Tromp-Hane</td><td>VGF544556NH</td><td>26</td><td>5</td><td>130</td><td>7X5</td><td>Cool storage temperature</td><td>2022-07-13 16:51:37.0000000</td><td>yes</td></tr><tr><td>4</td><td>Syrup</td><td>Biolimus Oflonophen</td><td>Thiel Inc</td><td>445GYGH44545</td><td>24</td><td>5</td><td>120</td><td>8X4</td><td>Cool storage temperature</td><td>2022-07-13 16:52:34.0000000</td><td>yes</td></tr><tr><td>5</td><td>Tablet</td><td>Symzole</td><td>Doyle Ltd</td><td>44FNJ448</td><td>27</td><td>6</td><td>162</td><td>9X4</td><td>Room temperature</td><td>2022-07-13 16:53:50.0000000</td><td>yes</td></tr><tr><td>6</td><td>Tablet</td><td>Novozolid Afinicerol</td><td>Schuster Ltd</td><td>454YGY4745</td><td>26</td><td>7</td><td>182</td><td>6X4</td><td>Room temperature</td><td>2022-07-13 16:54:41.0000000</td><td>yes</td></tr><tr><td>8</td><td>Tablet</td><td>Tritamine</td><td>Wintheiser-Schimmel</td><td>GFF45454H</td><td>18</td><td>2</td><td>36</td><td>8X5</td><td>Room temperature</td><td>2022-07-13 17:18:38.0000000</td><td>no</td></tr></tbody></table></div>"
      ]
     },
     "metadata": {
      "application/vnd.databricks.v1+output": {
       "addedWidgets": {},
       "aggData": [],
       "aggError": "",
       "aggOverflow": false,
       "aggSchema": [],
       "aggSeriesLimitReached": false,
       "aggType": "",
       "arguments": {},
       "columnCustomDisplayInfos": {},
       "data": [
        [
         "1",
         "Tablet",
         "Heparins",
         "Boehringer Ingelheim Ltd",
         "548HG54554",
         "15",
         "3",
         "45",
         "7X8",
         "Room temperature",
         "2022-07-13 11:19:38.0000000",
         "no"
        ],
        [
         "2",
         "Tablet",
         "Vigabide",
         "Senger Inc",
         "484YGH445",
         "16",
         "5",
         "80",
         "5X2",
         "Room temperature",
         "2022-07-13 16:50:32.0000000",
         "yes"
        ],
        [
         "3",
         "Syrup",
         "Benzotropin",
         "Tromp-Hane",
         "VGF544556NH",
         "26",
         "5",
         "130",
         "7X5",
         "Cool storage temperature",
         "2022-07-13 16:51:37.0000000",
         "yes"
        ],
        [
         "4",
         "Syrup",
         "Biolimus Oflonophen",
         "Thiel Inc",
         "445GYGH44545",
         "24",
         "5",
         "120",
         "8X4",
         "Cool storage temperature",
         "2022-07-13 16:52:34.0000000",
         "yes"
        ],
        [
         "5",
         "Tablet",
         "Symzole",
         "Doyle Ltd",
         "44FNJ448",
         "27",
         "6",
         "162",
         "9X4",
         "Room temperature",
         "2022-07-13 16:53:50.0000000",
         "yes"
        ],
        [
         "6",
         "Tablet",
         "Novozolid Afinicerol",
         "Schuster Ltd",
         "454YGY4745",
         "26",
         "7",
         "182",
         "6X4",
         "Room temperature",
         "2022-07-13 16:54:41.0000000",
         "yes"
        ],
        [
         "8",
         "Tablet",
         "Tritamine",
         "Wintheiser-Schimmel",
         "GFF45454H",
         "18",
         "2",
         "36",
         "8X5",
         "Room temperature",
         "2022-07-13 17:18:38.0000000",
         "no"
        ]
       ],
       "datasetInfos": [],
       "dbfsResultPath": null,
       "isJsonSchema": true,
       "metadata": {},
       "overflow": false,
       "plotOptions": {
        "customPlotOptions": {},
        "displayType": "table",
        "pivotAggregation": null,
        "pivotColumns": null,
        "xColumns": null,
        "yColumns": null
       },
       "removedWidgets": [],
       "schema": [
        {
         "metadata": "{}",
         "name": "id",
         "type": "\"string\""
        },
        {
         "metadata": "{}",
         "name": "type",
         "type": "\"string\""
        },
        {
         "metadata": "{}",
         "name": "label_name",
         "type": "\"string\""
        },
        {
         "metadata": "{}",
         "name": "manufacturer_name",
         "type": "\"string\""
        },
        {
         "metadata": "{}",
         "name": "barcode",
         "type": "\"string\""
        },
        {
         "metadata": "{}",
         "name": "unit_price",
         "type": "\"string\""
        },
        {
         "metadata": "{}",
         "name": "quantity",
         "type": "\"string\""
        },
        {
         "metadata": "{}",
         "name": "total_amount",
         "type": "\"string\""
        },
        {
         "metadata": "{}",
         "name": "label_size",
         "type": "\"string\""
        },
        {
         "metadata": "{}",
         "name": "storage_type",
         "type": "\"string\""
        },
        {
         "metadata": "{}",
         "name": "manufactured_date",
         "type": "\"string\""
        },
        {
         "metadata": "{}",
         "name": "availability",
         "type": "\"string\""
        }
       ],
       "type": "table"
      }
     },
     "output_type": "display_data"
    },
    {
     "output_type": "display_data",
     "data": {
      "text/plain": [
       "'availability'"
      ]
     },
     "metadata": {},
     "output_type": "display_data"
    },
    {
     "output_type": "display_data",
     "data": {
      "text/plain": [
       "'id'"
      ]
     },
     "metadata": {},
     "output_type": "display_data"
    },
    {
     "output_type": "display_data",
     "data": {
      "text/plain": [
       "'patient_id'"
      ]
     },
     "metadata": {},
     "output_type": "display_data"
    },
    {
     "output_type": "display_data",
     "data": {
      "text/plain": [
       "'order_id'"
      ]
     },
     "metadata": {},
     "output_type": "display_data"
    },
    {
     "output_type": "display_data",
     "data": {
      "text/plain": [
       "'medicine_id'"
      ]
     },
     "metadata": {},
     "output_type": "display_data"
    },
    {
     "output_type": "display_data",
     "data": {
      "text/plain": [
       "'quantity'"
      ]
     },
     "metadata": {},
     "output_type": "display_data"
    },
    {
     "output_type": "display_data",
     "data": {
      "text/plain": [
       "'unit_price'"
      ]
     },
     "metadata": {},
     "output_type": "display_data"
    },
    {
     "output_type": "display_data",
     "data": {
      "text/plain": [
       "'total_amount'"
      ]
     },
     "metadata": {},
     "output_type": "display_data"
    },
    {
     "output_type": "display_data",
     "data": {
      "text/plain": [
       "'id'"
      ]
     },
     "metadata": {},
     "output_type": "display_data"
    },
    {
     "output_type": "display_data",
     "data": {
      "text/plain": [
       "'patient_id'"
      ]
     },
     "metadata": {},
     "output_type": "display_data"
    },
    {
     "output_type": "display_data",
     "data": {
      "text/plain": [
       "'order_id'"
      ]
     },
     "metadata": {},
     "output_type": "display_data"
    },
    {
     "output_type": "display_data",
     "data": {
      "text/plain": [
       "'amount'"
      ]
     },
     "metadata": {},
     "output_type": "display_data"
    },
    {
     "output_type": "display_data",
     "data": {
      "text/plain": [
       "'status'"
      ]
     },
     "metadata": {},
     "output_type": "display_data"
    },
    {
     "output_type": "display_data",
     "data": {
      "text/plain": [
       "'payment_at'"
      ]
     },
     "metadata": {},
     "output_type": "display_data"
    },
    {
     "output_type": "display_data",
     "data": {
      "text/plain": [
       "'order_id'"
      ]
     },
     "metadata": {},
     "output_type": "display_data"
    },
    {
     "output_type": "display_data",
     "data": {
      "text/plain": [
       "'patient_id'"
      ]
     },
     "metadata": {},
     "output_type": "display_data"
    },
    {
     "output_type": "display_data",
     "data": {
      "text/plain": [
       "'patient_name'"
      ]
     },
     "metadata": {},
     "output_type": "display_data"
    },
    {
     "output_type": "display_data",
     "data": {
      "text/plain": [
       "'email_address'"
      ]
     },
     "metadata": {},
     "output_type": "display_data"
    },
    {
     "output_type": "display_data",
     "data": {
      "text/plain": [
       "'phone'"
      ]
     },
     "metadata": {},
     "output_type": "display_data"
    },
    {
     "output_type": "display_data",
     "data": {
      "text/plain": [
       "'delivery_address'"
      ]
     },
     "metadata": {},
     "output_type": "display_data"
    },
    {
     "output_type": "display_data",
     "data": {
      "text/plain": [
       "'order_amount'"
      ]
     },
     "metadata": {},
     "output_type": "display_data"
    },
    {
     "output_type": "display_data",
     "data": {
      "text/plain": [
       "'order_status'"
      ]
     },
     "metadata": {},
     "output_type": "display_data"
    },
    {
     "output_type": "display_data",
     "data": {
      "text/plain": [
       "'payment_status'"
      ]
     },
     "metadata": {},
     "output_type": "display_data"
    },
    {
     "output_type": "display_data",
     "data": {
      "text/plain": [
       "'order_date'"
      ]
     },
     "metadata": {},
     "output_type": "display_data"
    },
    {
     "output_type": "display_data",
     "data": {
      "text/plain": [
       "'order_date'"
      ]
     },
     "metadata": {},
     "output_type": "display_data"
    },
    {
     "output_type": "display_data",
     "data": {
      "text/html": [
       "<style scoped>\n",
       "  .table-result-container {\n",
       "    max-height: 300px;\n",
       "    overflow: auto;\n",
       "  }\n",
       "  table, th, td {\n",
       "    border: 1px solid black;\n",
       "    border-collapse: collapse;\n",
       "  }\n",
       "  th, td {\n",
       "    padding: 5px;\n",
       "  }\n",
       "  th {\n",
       "    text-align: left;\n",
       "  }\n",
       "</style><div class='table-result-container'><table class='table-result'><thead style='background-color: white'><tr><th>order_id</th><th>patient_id</th><th>patient_name</th><th>email_address</th><th>phone</th><th>delivery_address</th><th>order_amount</th><th>order_status</th><th>payment_status</th><th>order_date</th></tr></thead><tbody><tr><td>3</td><td>20</td><td>Alexa Adams</td><td>alexa@gmail.com</td><td>0151 334 2113</td><td>2 Bromborough Village Rd Wirral Merseyside</td><td>60</td><td>pending</td><td>paid</td><td>2022-07-13 17:29:43.0000000</td></tr><tr><td>4</td><td>19</td><td>Leo Brown</td><td>leobrown@gmail.com</td><td>01642 814404</td><td>251 Acklam Rd Middlesbrough Cleveland</td><td>78</td><td>delivered</td><td>paid</td><td>2022-07-13 17:38:26.0000000</td></tr><tr><td>5</td><td>20</td><td>Andrew</td><td>andrew@gmail.com</td><td>01642 814404</td><td>251 Acklam Rd Middlesbrough Cleveland</td><td>78</td><td>pending</td><td>paid</td><td>2022-07-13 18:09:21.0000000</td></tr></tbody></table></div>"
      ]
     },
     "metadata": {
      "application/vnd.databricks.v1+output": {
       "addedWidgets": {},
       "aggData": [],
       "aggError": "",
       "aggOverflow": false,
       "aggSchema": [],
       "aggSeriesLimitReached": false,
       "aggType": "",
       "arguments": {},
       "columnCustomDisplayInfos": {},
       "data": [
        [
         "3",
         "20",
         "Alexa Adams",
         "alexa@gmail.com",
         "0151 334 2113",
         "2 Bromborough Village Rd Wirral Merseyside",
         "60",
         "pending",
         "paid",
         "2022-07-13 17:29:43.0000000"
        ],
        [
         "4",
         "19",
         "Leo Brown",
         "leobrown@gmail.com",
         "01642 814404",
         "251 Acklam Rd Middlesbrough Cleveland",
         "78",
         "delivered",
         "paid",
         "2022-07-13 17:38:26.0000000"
        ],
        [
         "5",
         "20",
         "Andrew",
         "andrew@gmail.com",
         "01642 814404",
         "251 Acklam Rd Middlesbrough Cleveland",
         "78",
         "pending",
         "paid",
         "2022-07-13 18:09:21.0000000"
        ]
       ],
       "datasetInfos": [],
       "dbfsResultPath": null,
       "isJsonSchema": true,
       "metadata": {},
       "overflow": false,
       "plotOptions": {
        "customPlotOptions": {},
        "displayType": "table",
        "pivotAggregation": null,
        "pivotColumns": null,
        "xColumns": null,
        "yColumns": null
       },
       "removedWidgets": [],
       "schema": [
        {
         "metadata": "{}",
         "name": "order_id",
         "type": "\"string\""
        },
        {
         "metadata": "{}",
         "name": "patient_id",
         "type": "\"string\""
        },
        {
         "metadata": "{}",
         "name": "patient_name",
         "type": "\"string\""
        },
        {
         "metadata": "{}",
         "name": "email_address",
         "type": "\"string\""
        },
        {
         "metadata": "{}",
         "name": "phone",
         "type": "\"string\""
        },
        {
         "metadata": "{}",
         "name": "delivery_address",
         "type": "\"string\""
        },
        {
         "metadata": "{}",
         "name": "order_amount",
         "type": "\"string\""
        },
        {
         "metadata": "{}",
         "name": "order_status",
         "type": "\"string\""
        },
        {
         "metadata": "{}",
         "name": "payment_status",
         "type": "\"string\""
        },
        {
         "metadata": "{}",
         "name": "order_date",
         "type": "\"string\""
        }
       ],
       "type": "table"
      }
     },
     "output_type": "display_data"
    },
    {
     "output_type": "display_data",
     "data": {
      "text/plain": [
       "'id'"
      ]
     },
     "metadata": {},
     "output_type": "display_data"
    },
    {
     "output_type": "display_data",
     "data": {
      "text/plain": [
       "'patient_id'"
      ]
     },
     "metadata": {},
     "output_type": "display_data"
    },
    {
     "output_type": "display_data",
     "data": {
      "text/plain": [
       "'patient_name'"
      ]
     },
     "metadata": {},
     "output_type": "display_data"
    },
    {
     "output_type": "display_data",
     "data": {
      "text/plain": [
       "'email_address'"
      ]
     },
     "metadata": {},
     "output_type": "display_data"
    },
    {
     "output_type": "display_data",
     "data": {
      "text/plain": [
       "'phone'"
      ]
     },
     "metadata": {},
     "output_type": "display_data"
    },
    {
     "output_type": "display_data",
     "data": {
      "text/plain": [
       "'disease'"
      ]
     },
     "metadata": {},
     "output_type": "display_data"
    },
    {
     "output_type": "display_data",
     "data": {
      "text/plain": [
       "'prescriptions'"
      ]
     },
     "metadata": {},
     "output_type": "display_data"
    },
    {
     "output_type": "display_data",
     "data": {
      "text/plain": [
       "'disease_from'"
      ]
     },
     "metadata": {},
     "output_type": "display_data"
    },
    {
     "output_type": "display_data",
     "data": {
      "text/plain": [
       "'is_verified'"
      ]
     },
     "metadata": {},
     "output_type": "display_data"
    },
    {
     "output_type": "display_data",
     "data": {
      "text/plain": [
       "'id'"
      ]
     },
     "metadata": {},
     "output_type": "display_data"
    },
    {
     "output_type": "display_data",
     "data": {
      "text/plain": [
       "'user_id'"
      ]
     },
     "metadata": {},
     "output_type": "display_data"
    },
    {
     "output_type": "display_data",
     "data": {
      "text/plain": [
       "'activity'"
      ]
     },
     "metadata": {},
     "output_type": "display_data"
    },
    {
     "output_type": "display_data",
     "data": {
      "text/plain": [
       "'role'"
      ]
     },
     "metadata": {},
     "output_type": "display_data"
    },
    {
     "output_type": "display_data",
     "data": {
      "text/plain": [
       "'user_id'"
      ]
     },
     "metadata": {},
     "output_type": "display_data"
    },
    {
     "output_type": "display_data",
     "data": {
      "text/plain": [
       "'full_name'"
      ]
     },
     "metadata": {},
     "output_type": "display_data"
    },
    {
     "output_type": "display_data",
     "data": {
      "text/plain": [
       "'username'"
      ]
     },
     "metadata": {},
     "output_type": "display_data"
    },
    {
     "output_type": "display_data",
     "data": {
      "text/plain": [
       "'email_address'"
      ]
     },
     "metadata": {},
     "output_type": "display_data"
    },
    {
     "output_type": "display_data",
     "data": {
      "text/plain": [
       "'password'"
      ]
     },
     "metadata": {},
     "output_type": "display_data"
    },
    {
     "output_type": "display_data",
     "data": {
      "text/plain": [
       "'phone'"
      ]
     },
     "metadata": {},
     "output_type": "display_data"
    },
    {
     "output_type": "display_data",
     "data": {
      "text/plain": [
       "'address'"
      ]
     },
     "metadata": {},
     "output_type": "display_data"
    },
    {
     "output_type": "display_data",
     "data": {
      "text/plain": [
       "'role'"
      ]
     },
     "metadata": {},
     "output_type": "display_data"
    },
    {
     "output_type": "display_data",
     "data": {
      "text/plain": [
       "'status'"
      ]
     },
     "metadata": {},
     "output_type": "display_data"
    },
    {
     "output_type": "display_data",
     "data": {
      "text/plain": [
       "'registered_at'"
      ]
     },
     "metadata": {},
     "output_type": "display_data"
    }
   ],
   "source": [
    "from pyspark.sql.functions import date_format,from_utc_timestamp\n",
    "from pyspark.sql.types import TimestampType\n",
    "print (table_name[5])\n",
    "for i in table_name:\n",
    "    path='/mnt/bronze/hfpms/'+i+'/'+i+'.csv'\n",
    "    df=spark.read.format('csv').option(\"header\",\"true\").option(\"infraSchema\", \"true\").load(path)\n",
    "    column=df.columns\n",
    "\n",
    "    for col in column:\n",
    "        display(col)\n",
    "        if \"Date\" in col or \"date\" in col:\n",
    "            display(col)\n",
    "            display(df)\n",
    "            df=df.withColumn(col,date_format(from_utc_timestamp(df[col].cast(TimestampType()),\"UTC\"),\"yyyy-MM-dd\"))\n",
    "    output_path='/mnt/silver/hfpms/'+i+'/'\n",
    "    df.write.option(\"header\",\"true\").option(\"infraschema\", \"true\").format('Delta').mode(\"overwrite\").save(output_path)\n",
    "    \n",
    "\n",
    "   "
   ]
  },
  {
   "cell_type": "code",
   "execution_count": 0,
   "metadata": {
    "application/vnd.databricks.v1+cell": {
     "cellMetadata": {
      "byteLimit": 2048000,
      "rowLimit": 10000
     },
     "inputWidgets": {},
     "nuid": "e118f079-3b0b-4ac1-b48a-d0de23881776",
     "showTitle": false,
     "title": ""
    }
   },
   "outputs": [
    {
     "output_type": "display_data",
     "data": {
      "text/html": [
       "<style scoped>\n",
       "  .table-result-container {\n",
       "    max-height: 300px;\n",
       "    overflow: auto;\n",
       "  }\n",
       "  table, th, td {\n",
       "    border: 1px solid black;\n",
       "    border-collapse: collapse;\n",
       "  }\n",
       "  th, td {\n",
       "    padding: 5px;\n",
       "  }\n",
       "  th {\n",
       "    text-align: left;\n",
       "  }\n",
       "</style><div class='table-result-container'><table class='table-result'><thead style='background-color: white'><tr><th>order_id</th><th>patient_id</th><th>patient_name</th><th>email_address</th><th>phone</th><th>delivery_address</th><th>order_amount</th><th>order_status</th><th>payment_status</th><th>order_date</th></tr></thead><tbody><tr><td>3</td><td>20</td><td>Alexa Adams</td><td>alexa@gmail.com</td><td>0151 334 2113</td><td>2 Bromborough Village Rd Wirral Merseyside</td><td>60</td><td>pending</td><td>paid</td><td>2022-07-13</td></tr><tr><td>4</td><td>19</td><td>Leo Brown</td><td>leobrown@gmail.com</td><td>01642 814404</td><td>251 Acklam Rd Middlesbrough Cleveland</td><td>78</td><td>delivered</td><td>paid</td><td>2022-07-13</td></tr><tr><td>5</td><td>20</td><td>Andrew</td><td>andrew@gmail.com</td><td>01642 814404</td><td>251 Acklam Rd Middlesbrough Cleveland</td><td>78</td><td>pending</td><td>paid</td><td>2022-07-13</td></tr></tbody></table></div>"
      ]
     },
     "metadata": {
      "application/vnd.databricks.v1+output": {
       "addedWidgets": {},
       "aggData": [],
       "aggError": "",
       "aggOverflow": false,
       "aggSchema": [],
       "aggSeriesLimitReached": false,
       "aggType": "",
       "arguments": {},
       "columnCustomDisplayInfos": {},
       "data": [
        [
         "3",
         "20",
         "Alexa Adams",
         "alexa@gmail.com",
         "0151 334 2113",
         "2 Bromborough Village Rd Wirral Merseyside",
         "60",
         "pending",
         "paid",
         "2022-07-13"
        ],
        [
         "4",
         "19",
         "Leo Brown",
         "leobrown@gmail.com",
         "01642 814404",
         "251 Acklam Rd Middlesbrough Cleveland",
         "78",
         "delivered",
         "paid",
         "2022-07-13"
        ],
        [
         "5",
         "20",
         "Andrew",
         "andrew@gmail.com",
         "01642 814404",
         "251 Acklam Rd Middlesbrough Cleveland",
         "78",
         "pending",
         "paid",
         "2022-07-13"
        ]
       ],
       "datasetInfos": [],
       "dbfsResultPath": null,
       "isJsonSchema": true,
       "metadata": {},
       "overflow": false,
       "plotOptions": {
        "customPlotOptions": {},
        "displayType": "table",
        "pivotAggregation": null,
        "pivotColumns": null,
        "xColumns": null,
        "yColumns": null
       },
       "removedWidgets": [],
       "schema": [
        {
         "metadata": "{}",
         "name": "order_id",
         "type": "\"string\""
        },
        {
         "metadata": "{}",
         "name": "patient_id",
         "type": "\"string\""
        },
        {
         "metadata": "{}",
         "name": "patient_name",
         "type": "\"string\""
        },
        {
         "metadata": "{}",
         "name": "email_address",
         "type": "\"string\""
        },
        {
         "metadata": "{}",
         "name": "phone",
         "type": "\"string\""
        },
        {
         "metadata": "{}",
         "name": "delivery_address",
         "type": "\"string\""
        },
        {
         "metadata": "{}",
         "name": "order_amount",
         "type": "\"string\""
        },
        {
         "metadata": "{}",
         "name": "order_status",
         "type": "\"string\""
        },
        {
         "metadata": "{}",
         "name": "payment_status",
         "type": "\"string\""
        },
        {
         "metadata": "{}",
         "name": "order_date",
         "type": "\"string\""
        }
       ],
       "type": "table"
      }
     },
     "output_type": "display_data"
    }
   ],
   "source": [
    "input='/mnt/silver/hfpms/orders'\n",
    "df=spark.read.format('delta').load(input)\n",
    "display(df)"
   ]
  }
 ],
 "metadata": {
  "application/vnd.databricks.v1+notebook": {
   "dashboards": [],
   "language": "python",
   "notebookMetadata": {
    "mostRecentlyExecutedCommandWithImplicitDF": {
     "commandId": 2717224790587508,
     "dataframes": [
      "_sqldf"
     ]
    },
    "pythonIndentUnit": 4
   },
   "notebookName": "yt_bronze to silver",
   "widgets": {}
  }
 },
 "nbformat": 4,
 "nbformat_minor": 0
}
